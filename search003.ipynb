{
  "nbformat": 4,
  "nbformat_minor": 0,
  "metadata": {
    "colab": {
      "provenance": [],
      "authorship_tag": "ABX9TyOZlBIngWrVbl88sv9PHdK5",
      "include_colab_link": true
    },
    "kernelspec": {
      "name": "python3",
      "display_name": "Python 3"
    },
    "language_info": {
      "name": "python"
    }
  },
  "cells": [
    {
      "cell_type": "markdown",
      "metadata": {
        "id": "view-in-github",
        "colab_type": "text"
      },
      "source": [
        "<a href=\"https://colab.research.google.com/github/abdrmo/42/blob/main/search003.ipynb\" target=\"_parent\"><img src=\"https://colab.research.google.com/assets/colab-badge.svg\" alt=\"Open In Colab\"/></a>"
      ]
    },
    {
      "cell_type": "code",
      "source": [
        "'''write code that takes in a\n",
        " document with schema, index it then query the\n",
        "  document and returns the best matchung document as an index'''"
      ],
      "metadata": {
        "id": "Dv6s1eXtK0Pc"
      },
      "execution_count": null,
      "outputs": []
    },
    {
      "cell_type": "code",
      "source": [
        "# different ways to write code that can take in\n",
        "#  a document with schema, index it, then query the document \n",
        "# and return the best matching document as an index. One possible way\n",
        "#  is to use a document database like MongoDB¹ and a cloud search service\n",
        "#  like Azure Cognitive Search². Here is a possible pseudocode for this task:\n",
        "\n",
        "\n",
        "# Import MongoDB and Azure Cognitive Search libraries\n",
        "import pymongo\n",
        "import azure.cognitivesearch\n",
        "\n",
        "# Connect to MongoDB database and collection\n",
        "client = pymongo.MongoClient(\"mongodb://localhost:27017/\")\n",
        "db = client[\"mydatabase\"]\n",
        "collection = db[\"mycollection\"]\n",
        "\n",
        "# Define the document schema for MongoDB\n",
        "schema = {\n",
        "  \"first_name\": \"string\",\n",
        "  \"email\": \"string\",\n",
        "  \"cell\": \"string\",\n",
        "  \"likes\": [\"string\"],\n",
        "  \"businesses\": [{\n",
        "    \"name\": \"string\",\n",
        "    \"partner\": \"string\",\n",
        "    \"status\": \"string\",\n",
        "    \"date_founded\": \"date\"\n",
        "  }]\n",
        "}\n",
        "\n",
        "# Validate the document schema for MongoDB\n",
        "validator = {\"$jsonSchema\": {\"bsonType\": \"object\", \"properties\": schema}}\n",
        "collection.create_index([(\"$**\", pymongo.HASHED)], validator=validator)\n",
        "\n",
        "# Insert a document into MongoDB collection\n",
        "document = {\n",
        "  \"first_name\": \"Tom\",\n",
        "  \"email\": \"tom@example.com\",\n",
        "  \"cell\": \"765-555-5555\",\n",
        "  \"likes\": [\"fashion\", \"spas\", \"shopping\"],\n",
        "  \"businesses\": [\n",
        "    {\n",
        "      \"name\": \"Entertainment 1080\",\n",
        "      \"partner\": \"Jean\",\n",
        "      \"status\": \"Bankrupt\",\n",
        "      \"date_founded\": datetime.datetime(2012, 5, 19)\n",
        "    },\n",
        "    {\n",
        "      \"name\": \"Swag for Tweens\",\n",
        "      \"date_founded\": datetime.datetime(2012, 11, 1)\n",
        "    }\n",
        "  ]\n",
        "}\n",
        "collection.insert_one(document)\n",
        "\n",
        "# Connect to Azure Cognitive Search service and index\n",
        "service = azure.cognitivesearch.SearchServiceClient(\"https://mysearchservice.search.windows.net/\", api_key=\"myapikey\")\n",
        "index = service.get_index(\"myindex\")\n",
        "\n",
        "# Define the index schema for Azure Cognitive Search\n",
        "schema = {\n",
        "  \"@odata.type\": \"#Microsoft.Azure.Search.Index\",\n",
        "  \"name\": \"myindex\",\n",
        "  \"fields\": [\n",
        "    {\"name\": \"_id\", \"type\": \"Edm.String\", \"key\": True, \"searchable\": False},\n",
        "    {\"name\": \"first_name\", \"type\": \"Edm.String\", \"searchable\": True},\n",
        "    {\"name\": \"email\", \"type\": \"Edm.String\", \"searchable\": True},\n",
        "    {\"name\": \"cell\", \"type\": \"Edm.String\", \"searchable\": True},\n",
        "    {\"name\": \"likes\", \n",
        "     \"@odata.type\":\"Collection(Edm.String)\", \n",
        "     \"@search.isSearchable\":\"true\"},\n",
        "    {\"name\": \n",
        "     \"@odata.type\":\"Collection(ComplexType)\", \n",
        "     \"@search.isSearchable\":\"true\"},\n",
        "    {\"name\":\"businesses/name\",\"type\":\"Edm.String\",\"searchable\":\"true\"},\n",
        "    {\"name\":\"businesses/partner\",\"type\":\"Edm.String\",\"searchable\":\"true\"},\n",
        "    {\"name\":\"businesses/status\",\"type\":\"Edm.String\",\"searchable\":\"true\"},\n",
        "    {\"name\":\"businesses/date_founded\",\"type\":\"Edm.DateTimeOffset\",\"searchable\":\"false\"}\n",
        "  ]\n",
        "}\n",
        "\n",
        "# Create or update the index schema for Azure Cognitive Search\n",
        "service.create_or_update_index(schema)\n",
        "\n",
        "# Create an indexer to pull data from MongoDB to Azure Cognitive Search\n",
        "indexer = {\n",
        "  \"@odata.type\": \"#Microsoft.Azure.Search.Indexer\",\n",
        "  \"name\": \n",
        "\"myindexer\",\n",
        "  # The name of the data source that this indexer connects to.\n",
        "  # The data source must already exist and can be created using create_datasource method.\n",
        "  # Alternatively, you can use the DataSource object to create a data source inline.\n",
        "  # See https://docs.microsoft.com/en-us/rest/api/searchservice/create-data-source for details.\n",
        "  # In this example, we assume that the data source name is mongodbdatasource and it connects to the MongoDB collection we created earlier.\n",
        "  # You can also specify a query to filter the documents from MongoDB.\n",
        "  # See https://docs.microsoft.com/en-us/azure/search/search-howto-index-mongodb for details.\n",
        "  \n",
        "\"dataSourceName\":\n",
        "\"mongodbdatasource\",\n",
        "\n",
        "  \n",
        "\"targetIndexName\":\n",
        "\"myindex\",\n",
        "\n",
        "  \n",
        "\"schedule\":\n",
        "{\n",
        "    \n",
        "\"interval\":\n",
        "\"PT2H\",\n",
        "\n",
        "    \n",
        "\"startTime\":\n",
        "\"\n",
        "\n",
        "Source: Conversation with Bing, 02/04/2023(1) Document Database - NoSQL | MongoDB. https://www.mongodb.com/document-databases Accessed 02/04/2023.\n",
        "(2) Introduction to Azure Cognitive Search - Azure Cognitive Search. https://learn.microsoft.com/en-us/azure/search/search-what-is-azure-search Accessed 02/04/2023.\n",
        "(3) Index overview - Azure Cognitive Search | Microsoft Learn. https://learn.microsoft.com/en-us/azure/search/search-what-is-an-index Accessed 02/04/2023."
      ],
      "metadata": {
        "id": "fxvY4_EDLCtB"
      },
      "execution_count": null,
      "outputs": []
    },
    {
      "cell_type": "code",
      "source": [
        "'''\n",
        "2\n",
        "redo it using redis for storing embeddings and\n",
        " document schema { \"id\": id, \"title\": title, \"description\": id, \"path\": path, \"locale\": locale }'''"
      ],
      "metadata": {
        "id": "JQZQFqQDKm65"
      },
      "execution_count": null,
      "outputs": []
    },
    {
      "cell_type": "code",
      "source": [
        "!pip install redis rejson -qq\n",
        "# Import Redis and RedisJSON libraries\n",
        "import redis\n",
        "import rejson\n",
        "\n",
        "# import redis\n",
        "host = 'redis-16147.c23738.us-east-1-mz.ec2.cloud.rlrcp.com'\n",
        "r = redis.Redis(host=host,\n",
        "                port=16147,\n",
        "                password='XTc5dx0uUIDTv2JTR6rfV2m5RtsiPHcx')\n"
      ],
      "metadata": {
        "colab": {
          "base_uri": "https://localhost:8080/"
        },
        "id": "5aa1rE-WL3CV",
        "outputId": "3dfcdd03-3954-4897-8ed5-7309f474de35"
      },
      "execution_count": null,
      "outputs": [
        {
          "output_type": "stream",
          "name": "stdout",
          "text": [
            "\u001b[31mERROR: Could not find a version that satisfies the requirement redisjson (from versions: none)\u001b[0m\u001b[31m\n",
            "\u001b[0m\u001b[31mERROR: No matching distribution found for redisjson\u001b[0m\u001b[31m\n",
            "\u001b[0m"
          ]
        }
      ]
    },
    {
      "cell_type": "code",
      "source": [
        "\n",
        "# Connect to Redis database\n",
        "# client = redis.Redis(host=\"localhost\", port=6379)\n",
        "json = rejson.Client(client)\n",
        "\n",
        "# Define the document schema for RedisJSON\n",
        "schema = {\n",
        "  \"id\": \"string\",\n",
        "  \"title\": \"string\",\n",
        "  \"description\": \"string\",\n",
        "  \"path\": \"string\",\n",
        "  \"locale\": \"string\"\n",
        "}\n",
        "  i get the error `json = rejson.Client(client)`    AttributeError: 'Redis' object has no attribute 'encode'"
      ],
      "metadata": {
        "id": "8eSJtZqMDMPg"
      },
      "execution_count": null,
      "outputs": []
    },
    {
      "cell_type": "code",
      "execution_count": null,
      "metadata": {
        "colab": {
          "base_uri": "https://localhost:8080/",
          "height": 454
        },
        "id": "u2CagYLbKg0T",
        "outputId": "be2aa755-db93-4806-9fc7-dcd8129f5b10"
      },
      "outputs": [
        {
          "output_type": "stream",
          "name": "stdout",
          "text": [
            "Looking in indexes: https://pypi.org/simple, https://us-python.pkg.dev/colab-wheels/public/simple/\n",
            "\u001b[31mERROR: Could not find a version that satisfies the requirement redis-py (from versions: none)\u001b[0m\u001b[31m\n",
            "\u001b[0m\u001b[31mERROR: No matching distribution found for redis-py\u001b[0m\u001b[31m\n",
            "\u001b[0m"
          ]
        },
        {
          "output_type": "error",
          "ename": "AttributeError",
          "evalue": "ignored",
          "traceback": [
            "\u001b[0;31m---------------------------------------------------------------------------\u001b[0m",
            "\u001b[0;31mAttributeError\u001b[0m                            Traceback (most recent call last)",
            "\u001b[0;32m<ipython-input-7-ce1ef50059b7>\u001b[0m in \u001b[0;36m<cell line: 11>\u001b[0;34m()\u001b[0m\n\u001b[1;32m      9\u001b[0m \u001b[0;31m# Connect to Redis database\u001b[0m\u001b[0;34m\u001b[0m\u001b[0;34m\u001b[0m\u001b[0m\n\u001b[1;32m     10\u001b[0m \u001b[0mclient\u001b[0m \u001b[0;34m=\u001b[0m \u001b[0mredis\u001b[0m\u001b[0;34m.\u001b[0m\u001b[0mRedis\u001b[0m\u001b[0;34m(\u001b[0m\u001b[0mhost\u001b[0m\u001b[0;34m=\u001b[0m\u001b[0;34m\"localhost\"\u001b[0m\u001b[0;34m,\u001b[0m \u001b[0mport\u001b[0m\u001b[0;34m=\u001b[0m\u001b[0;36m6379\u001b[0m\u001b[0;34m)\u001b[0m\u001b[0;34m\u001b[0m\u001b[0;34m\u001b[0m\u001b[0m\n\u001b[0;32m---> 11\u001b[0;31m \u001b[0mjson\u001b[0m \u001b[0;34m=\u001b[0m \u001b[0mrejson\u001b[0m\u001b[0;34m.\u001b[0m\u001b[0mClient\u001b[0m\u001b[0;34m(\u001b[0m\u001b[0mclient\u001b[0m\u001b[0;34m)\u001b[0m\u001b[0;34m\u001b[0m\u001b[0;34m\u001b[0m\u001b[0m\n\u001b[0m\u001b[1;32m     12\u001b[0m \u001b[0;34m\u001b[0m\u001b[0m\n\u001b[1;32m     13\u001b[0m \u001b[0;31m# Define the document schema for RedisJSON\u001b[0m\u001b[0;34m\u001b[0m\u001b[0;34m\u001b[0m\u001b[0m\n",
            "\u001b[0;32m/usr/local/lib/python3.9/dist-packages/rejson/client.py\u001b[0m in \u001b[0;36m__init__\u001b[0;34m(self, encoder, decoder, *args, **kwargs)\u001b[0m\n\u001b[1;32m     45\u001b[0m         \u001b[0;31m`\u001b[0m\u001b[0;31m`\u001b[0m\u001b[0mdecoder\u001b[0m\u001b[0;31m`\u001b[0m\u001b[0;31m`\u001b[0m \u001b[0mshould\u001b[0m \u001b[0mbe\u001b[0m \u001b[0man\u001b[0m \u001b[0minstance\u001b[0m \u001b[0mof\u001b[0m \u001b[0ma\u001b[0m\u001b[0;31m \u001b[0m\u001b[0;31m`\u001b[0m\u001b[0;31m`\u001b[0m\u001b[0mjson\u001b[0m\u001b[0;34m.\u001b[0m\u001b[0mJSONDecoder\u001b[0m\u001b[0;31m`\u001b[0m\u001b[0;31m`\u001b[0m \u001b[0;32mclass\u001b[0m\u001b[0;34m\u001b[0m\u001b[0;34m\u001b[0m\u001b[0m\n\u001b[1;32m     46\u001b[0m         \"\"\"\n\u001b[0;32m---> 47\u001b[0;31m         \u001b[0mself\u001b[0m\u001b[0;34m.\u001b[0m\u001b[0msetEncoder\u001b[0m\u001b[0;34m(\u001b[0m\u001b[0mencoder\u001b[0m\u001b[0;34m)\u001b[0m\u001b[0;34m\u001b[0m\u001b[0;34m\u001b[0m\u001b[0m\n\u001b[0m\u001b[1;32m     48\u001b[0m         \u001b[0mself\u001b[0m\u001b[0;34m.\u001b[0m\u001b[0msetDecoder\u001b[0m\u001b[0;34m(\u001b[0m\u001b[0mdecoder\u001b[0m\u001b[0;34m)\u001b[0m\u001b[0;34m\u001b[0m\u001b[0;34m\u001b[0m\u001b[0m\n\u001b[1;32m     49\u001b[0m         \u001b[0mStrictRedis\u001b[0m\u001b[0;34m.\u001b[0m\u001b[0m__init__\u001b[0m\u001b[0;34m(\u001b[0m\u001b[0mself\u001b[0m\u001b[0;34m,\u001b[0m \u001b[0;34m*\u001b[0m\u001b[0margs\u001b[0m\u001b[0;34m,\u001b[0m \u001b[0;34m**\u001b[0m\u001b[0mkwargs\u001b[0m\u001b[0;34m)\u001b[0m\u001b[0;34m\u001b[0m\u001b[0;34m\u001b[0m\u001b[0m\n",
            "\u001b[0;32m/usr/local/lib/python3.9/dist-packages/rejson/client.py\u001b[0m in \u001b[0;36msetEncoder\u001b[0;34m(self, encoder)\u001b[0m\n\u001b[1;32m     82\u001b[0m         \u001b[0;32melse\u001b[0m\u001b[0;34m:\u001b[0m\u001b[0;34m\u001b[0m\u001b[0;34m\u001b[0m\u001b[0m\n\u001b[1;32m     83\u001b[0m             \u001b[0mself\u001b[0m\u001b[0;34m.\u001b[0m\u001b[0m_encoder\u001b[0m \u001b[0;34m=\u001b[0m \u001b[0mencoder\u001b[0m\u001b[0;34m\u001b[0m\u001b[0;34m\u001b[0m\u001b[0m\n\u001b[0;32m---> 84\u001b[0;31m         \u001b[0mself\u001b[0m\u001b[0;34m.\u001b[0m\u001b[0m_encode\u001b[0m \u001b[0;34m=\u001b[0m \u001b[0mself\u001b[0m\u001b[0;34m.\u001b[0m\u001b[0m_encoder\u001b[0m\u001b[0;34m.\u001b[0m\u001b[0mencode\u001b[0m\u001b[0;34m\u001b[0m\u001b[0;34m\u001b[0m\u001b[0m\n\u001b[0m\u001b[1;32m     85\u001b[0m \u001b[0;34m\u001b[0m\u001b[0m\n\u001b[1;32m     86\u001b[0m     \u001b[0;32mdef\u001b[0m \u001b[0msetDecoder\u001b[0m\u001b[0;34m(\u001b[0m\u001b[0mself\u001b[0m\u001b[0;34m,\u001b[0m \u001b[0mdecoder\u001b[0m\u001b[0;34m)\u001b[0m\u001b[0;34m:\u001b[0m\u001b[0;34m\u001b[0m\u001b[0;34m\u001b[0m\u001b[0m\n",
            "\u001b[0;31mAttributeError\u001b[0m: 'Redis' object has no attribute 'encode'"
          ]
        }
      ],
      "source": [
        "# !pip install redis rejson -\n",
        "# bug inredis\n",
        "# !pip install --upgrade redis-py rejson\n",
        "\n",
        "# Import Redis and RedisJSON libraries\n",
        "import redis\n",
        "import rejson\n",
        "\n",
        "# Connect to Redis database\n",
        "client = redis.Redis(host=\"localhost\", port=6379)\n",
        "json = rejson.Client(client)\n",
        "\n",
        "# Define the document schema for RedisJSON\n",
        "schema = {\n",
        "  \"id\": \"string\",\n",
        "  \"title\": \"string\",\n",
        "  \"description\": \"string\",\n",
        "  \"path\": \"string\",\n",
        "  \"locale\": \"string\"\n",
        "}\n",
        "\n",
        "# Validate the document schema for RedisJSON\n",
        "# You can use a third-party library like jsonschema to validate the schema\n",
        "# See https://pypi.org/project/jsonschema/ for details\n",
        "# For example:\n",
        "import jsonschema\n",
        "validator = jsonschema.Draft7Validator(schema)\n",
        "\n",
        "# Insert a document into RedisJSON\n",
        "document = {\n",
        "  \"id\": \"1\",\n",
        "  \"title\": \"How to use Redis for storing embeddings\",\n",
        "  \"description\": \"A tutorial on how to use Redis for storing embeddings and document schema\",\n",
        "  \"path\": \"/tutorials/redis-embeddings\",\n",
        "  \"locale\": \"en\"\n",
        "}\n",
        "# Validate the document before inserting\n",
        "validator.validate(document)\n",
        "# Use JSON.SET to store the document with a key\n",
        "json.jsonset(\"doc:1\", path=\"$\", obj=document)\n",
        "\n",
        "# Insert an embedding into Redis\n",
        "embedding = [0.87, -0.15, 0.55, 0.03]\n",
        "# Use HSET to store the embedding with a key and a field name\n",
        "client.hset(\"emb:1\", \"vector\", embedding)\n",
        "\n",
        "# Query the document and the embedding by id\n",
        "# Use JSON.GET to get the document by key and path\n",
        "doc = json.jsonget(\"doc:1\", path=\"$\")\n",
        "# Use HGET to get the embedding by key and field name\n",
        "emb = client.hget(\"emb:1\", \"vector\")\n",
        "\n",
        "# Return the best matching document as an index\n",
        "# You can use a vector similarity library like nmslib or faiss to find the nearest neighbors of a query vector\n",
        "# See https://github.com/nmslib/nmslib and https://github.com/facebookresearch/faiss for details\n",
        "# For example, using nmslib:\n",
        "import nmslib\n",
        "\n",
        "# Create an index object\n",
        "index = nmslib.init(method=\"hnsw\", space=\"l2\")\n",
        "\n",
        "# Add all embeddings to the index with their ids as labels\n",
        "# You can use SCAN to iterate over all keys matching a pattern\n",
        "for key in client.scan_iter(\"emb:*\"):\n",
        "  # Get the embedding and the id from the key\n",
        "  emb = client.hget(key, \"vector\")\n",
        "  id = key.split(\":\")[1]\n",
        "  # Add the embedding to the index with the id as label\n",
        "  index.addDataPoint(id, emb)\n",
        "\n",
        "# Build the index\n",
        "index.createIndex()\n",
        "\n",
        "# Query the index with a query vector and return the best matching id\n",
        "query_vector = [0.9, -0.1, 0.6, 0.05]\n",
        "id, distance = index.knnQuery(query_vector, k=1)\n",
        "\n",
        "# Return the id as the index of the best matching document\n",
        "return id\n"
      ]
    }
  ]
}